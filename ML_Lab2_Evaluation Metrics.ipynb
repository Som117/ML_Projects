{
 "cells": [
  {
   "cell_type": "markdown",
   "id": "9387e99f",
   "metadata": {},
   "source": [
    "<b>Lab No-2 \n",
    "<b>Evaluation Metrics\n",
    "\n",
    "a. Accuracy\n",
    "    \n",
    "b. Precision\n",
    "    \n",
    "c. Recall\n",
    "    \n",
    "d. F1-Score"
   ]
  },
  {
   "cell_type": "markdown",
   "id": "6297673d",
   "metadata": {},
   "source": [
    "<b>Theory:"
   ]
  },
  {
   "cell_type": "markdown",
   "id": "db43c88c",
   "metadata": {},
   "source": [
    "Not only in machine learning but also in general life, especially business life, you will hear questions like \"How accurate is your product?\" or \"How precise is your machine?\". \n",
    "\n",
    "When people get replies like \"This is the most accurate product in its field!\" or \"This machine has the highest imaginable precision!\", they feel fomforted by both answers. Shouldn't they? Indeed, the terms accurate and precise are very often used interchangeably. \n",
    "\n",
    "We will give exact definitions later in the text, but in a nutshell, we can say: Accuracy is a measure for the closeness of some measurements to a specific value, while precision is the closeness of the measurements to each other.\n",
    "\n"
   ]
  },
  {
   "cell_type": "markdown",
   "id": "6c949532",
   "metadata": {},
   "source": [
    "These terms are also of extreme importance in Machine Learning. We need them for evaluating ML algorithms or better their results.\n",
    "\n"
   ]
  },
  {
   "cell_type": "markdown",
   "id": "5d3abebb",
   "metadata": {},
   "source": [
    "These metrics are used to evaluate the results of classifications. The metrics are:\n",
    "\n",
    "- Accuracy\n",
    "\n",
    "- Precision\n",
    "\n",
    "- Recall\n",
    "\n",
    "- F1-Score"
   ]
  },
  {
   "cell_type": "markdown",
   "id": "99c94e98",
   "metadata": {},
   "source": [
    "<b>Program for Confusion Matrix-"
   ]
  },
  {
   "cell_type": "code",
   "execution_count": 2,
   "id": "c933b638",
   "metadata": {},
   "outputs": [
    {
     "name": "stdout",
     "output_type": "stream",
     "text": [
      "[[  7  83]\n",
      " [ 87 823]]\n"
     ]
    }
   ],
   "source": [
    "# Program -1\n",
    "\n",
    "import matplotlib.pyplot as plt\n",
    "import numpy\n",
    "from sklearn import metrics\n",
    "\n",
    "actual = numpy.random.binomial(1,.9,size = 1000)\n",
    "\n",
    "predicted = numpy.random.binomial(1,.9,size = 1000)\n",
    "\n",
    "confusion_matrix = metrics.confusion_matrix(actual, predicted)\n",
    "print(confusion_matrix)\n",
    "\n"
   ]
  },
  {
   "cell_type": "code",
   "execution_count": 4,
   "id": "e813d7f0",
   "metadata": {},
   "outputs": [
    {
     "data": {
      "image/png": "[encoded data removed]",
      "text/plain": [
       "<Figure size 432x288 with 2 Axes>"
      ]
     },
     "metadata": {
      "needs_background": "light"
     },
     "output_type": "display_data"
    }
   ],
   "source": [
    "cm_display = metrics.ConfusionMatrixDisplay(confusion_matrix = confusion_matrix, display_labels = [False, True])\n",
    "\n",
    "cm_display.plot()\n",
    "plt.show()"
   ]
  },
  {
   "cell_type": "code",
   "execution_count": 9,
   "id": "183cc05d",
   "metadata": {},
   "outputs": [
    {
     "name": "stdout",
     "output_type": "stream",
     "text": [
      "[[1 1 0]\n",
      " [0 1 0]\n",
      " [1 0 1]]\n",
      "              precision    recall  f1-score   support\n",
      "\n",
      "           a       0.50      0.50      0.50         2\n",
      "           b       0.50      1.00      0.67         1\n",
      "           c       1.00      0.50      0.67         2\n",
      "\n",
      "    accuracy                           0.60         5\n",
      "   macro avg       0.67      0.67      0.61         5\n",
      "weighted avg       0.70      0.60      0.60         5\n",
      "\n"
     ]
    }
   ],
   "source": [
    "# Program No-2\n",
    "\n",
    "# Importing the dependancies\n",
    "from sklearn import metrics\n",
    "# Predicted values\n",
    "y_pred = [\"a\", \"b\", \"c\", \"a\", \"b\"]\n",
    "# Actual values\n",
    "y_act = [\"a\", \"b\", \"c\", \"c\", \"a\"]\n",
    "# Printing the confusion matrix\n",
    "# The columns will show the instances predicted for each label,\n",
    "# and the rows will show the actual number of instances for each label.\n",
    "print(metrics.confusion_matrix(y_act, y_pred, labels=[\"a\", \"b\", \"c\"]))\n",
    "\n",
    "\n",
    "# Printing the precision and recall, among other metrics\n",
    "print(metrics.classification_report(y_act, y_pred, labels=[\"a\", \"b\",\"c\"]))"
   ]
  },
  {
   "cell_type": "code",
   "execution_count": 10,
   "id": "2a7297b4",
   "metadata": {},
   "outputs": [
    {
     "data": {
      "text/plain": [
       "array([[2, 0, 0],\n",
       "       [0, 0, 1],\n",
       "       [1, 0, 2]], dtype=int64)"
      ]
     },
     "execution_count": 10,
     "metadata": {},
     "output_type": "execute_result"
    }
   ],
   "source": [
    "# Program No-3\n",
    "\n",
    "from sklearn.metrics import confusion_matrix\n",
    "y_true = [2, 0, 2, 2, 0, 1]\n",
    "y_pred = [0, 0, 2, 2, 0, 2]\n",
    "confusion_matrix(y_true, y_pred)\n"
   ]
  },
  {
   "cell_type": "code",
   "execution_count": 11,
   "id": "a5dd2973",
   "metadata": {},
   "outputs": [
    {
     "data": {
      "text/plain": [
       "array([[2, 0, 0],\n",
       "       [0, 0, 1],\n",
       "       [1, 0, 2]], dtype=int64)"
      ]
     },
     "execution_count": 11,
     "metadata": {},
     "output_type": "execute_result"
    }
   ],
   "source": [
    "#Program No-4\n",
    "y_true = [\"cat\", \"ant\", \"cat\", \"cat\", \"ant\", \"bird\"]\n",
    "y_pred = [\"ant\", \"ant\", \"cat\", \"cat\", \"ant\", \"cat\"]\n",
    "confusion_matrix(y_true, y_pred, labels=[\"ant\", \"bird\", \"cat\"])\n"
   ]
  },
  {
   "cell_type": "code",
   "execution_count": 12,
   "id": "639a2161",
   "metadata": {},
   "outputs": [
    {
     "data": {
      "text/plain": [
       "(0, 2, 1, 1)"
      ]
     },
     "execution_count": 12,
     "metadata": {},
     "output_type": "execute_result"
    }
   ],
   "source": [
    "#Program No-5\n",
    "import numpy\n",
    "tn, fp, fn, tp = confusion_matrix([0, 1, 0, 1], [1, 1, 1, 0]).ravel()\n",
    "(tn, fp, fn, tp)"
   ]
  }
 ],
 "metadata": {
  "kernelspec": {
   "display_name": "Python 3 (ipykernel)",
   "language": "python",
   "name": "python3"
  },
  "language_info": {
   "codemirror_mode": {
    "name": "ipython",
    "version": 3
   },
   "file_extension": ".py",
   "mimetype": "text/x-python",
   "name": "python",
   "nbconvert_exporter": "python",
   "pygments_lexer": "ipython3",
   "version": "3.8.12"
  }
 },
 "nbformat": 4,
 "nbformat_minor": 5
}
